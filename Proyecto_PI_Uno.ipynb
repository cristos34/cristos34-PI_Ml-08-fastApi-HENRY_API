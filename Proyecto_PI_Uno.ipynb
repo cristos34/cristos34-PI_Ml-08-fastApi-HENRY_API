{
 "cells": [
  {
   "attachments": {},
   "cell_type": "markdown",
   "metadata": {},
   "source": [
    "Se realiaza la importacion de las librerias necesarias para la limpieza y  exploracion de los datos colocandole sus alias respectivos."
   ]
  },
  {
   "cell_type": "code",
   "execution_count": 1,
   "metadata": {},
   "outputs": [],
   "source": [
    "import pandas as pd\n",
    "import numpy as np\n",
    "from os import remove\n",
    "import os\n",
    "#import matplotlib.pyplot as plt\n",
    "#import seaborn as sns\n",
    "import glob"
   ]
  },
  {
   "attachments": {},
   "cell_type": "markdown",
   "metadata": {},
   "source": [
    "Se procede a la extracion de los dataset atravez de la libreria de pandas con la funcion Read_csv."
   ]
  },
  {
   "cell_type": "code",
   "execution_count": 2,
   "metadata": {},
   "outputs": [],
   "source": [
    "amazon_prime_titles=pd.read_csv(r\"dataset\\amazon_prime_titles.csv\",sep=\",\")\n",
    "disney_plus_titles=pd.read_csv(r\"dataset\\disney_plus_titles.csv\",sep=\",\")\n",
    "hulu_titles=pd.read_csv(r\"dataset\\hulu_titles.csv\",sep=\",\")\n",
    "netflix_titles=pd.read_csv(r\"dataset\\netflix_titles.csv\",sep=\",\")\n",
    "dfRatings=pd.concat(map(pd.read_csv,glob.glob(\"ratings\\*.csv\")))\n",
    "dfRatings.rename(columns={ 'movieId' : 'id',\"rating\":\"scored\" },inplace=True)\n",
    "# glob.glob(r\"C:\\Users\\CAC\\Desktop\\HENRY\\DATA SCIENSE\\1 CURSO DT08-GRUPO 03\\PROYECTOS FINALES\\PI DATA ENGINEER 13-03-2023\\PI_ML_OPS-main\\Dataset\\MLOpsReviews\\ratings\\*.csv\")#-->nos muestra la cantidad \n",
    "# de rutas que se logro cargar\n"
   ]
  },
  {
   "attachments": {},
   "cell_type": "markdown",
   "metadata": {},
   "source": [
    "Se pasa a verificar que todas las plataformas tengas las misma cantidad de columnas y/o similares para poder concatenarlas y reducir el trabajo de observacion y limpieza."
   ]
  },
  {
   "cell_type": "code",
   "execution_count": 4,
   "metadata": {},
   "outputs": [
    {
     "name": "stdout",
     "output_type": "stream",
     "text": [
      " Amazon Empty DataFrame\n",
      "Columns: [show_id, type, title, director, cast, country, date_added, release_year, rating, duration, listed_in, description]\n",
      "Index: []\n",
      " disney Empty DataFrame\n",
      "Columns: [show_id, type, title, director, cast, country, date_added, release_year, rating, duration, listed_in, description]\n",
      "Index: []\n",
      " hulu Empty DataFrame\n",
      "Columns: [show_id, type, title, director, cast, country, date_added, release_year, rating, duration, listed_in, description]\n",
      "Index: []\n",
      " netflix Empty DataFrame\n",
      "Columns: [show_id, type, title, director, cast, country, date_added, release_year, rating, duration, listed_in, description]\n",
      "Index: []\n"
     ]
    }
   ],
   "source": [
    "print(f\" Amazon {amazon_prime_titles.head(0)}\")\n",
    "print(f\" disney {disney_plus_titles.head(0)}\")\n",
    "print(f\" hulu {hulu_titles.head(0)}\")\n",
    "print(f\" netflix {netflix_titles.head(0)}\")"
   ]
  },
  {
   "attachments": {},
   "cell_type": "markdown",
   "metadata": {},
   "source": [
    "Se realiza una visualizacion con los datos de los 8 dataset"
   ]
  },
  {
   "cell_type": "code",
   "execution_count": 5,
   "metadata": {},
   "outputs": [
    {
     "data": {
      "text/html": [
       "<div>\n",
       "<style scoped>\n",
       "    .dataframe tbody tr th:only-of-type {\n",
       "        vertical-align: middle;\n",
       "    }\n",
       "\n",
       "    .dataframe tbody tr th {\n",
       "        vertical-align: top;\n",
       "    }\n",
       "\n",
       "    .dataframe thead th {\n",
       "        text-align: right;\n",
       "    }\n",
       "</style>\n",
       "<table border=\"1\" class=\"dataframe\">\n",
       "  <thead>\n",
       "    <tr style=\"text-align: right;\">\n",
       "      <th></th>\n",
       "      <th>userId</th>\n",
       "      <th>scored</th>\n",
       "      <th>timestamp</th>\n",
       "      <th>id</th>\n",
       "    </tr>\n",
       "  </thead>\n",
       "  <tbody>\n",
       "    <tr>\n",
       "      <th>0</th>\n",
       "      <td>1</td>\n",
       "      <td>1.0</td>\n",
       "      <td>1425941529</td>\n",
       "      <td>as680</td>\n",
       "    </tr>\n",
       "    <tr>\n",
       "      <th>1</th>\n",
       "      <td>1</td>\n",
       "      <td>4.5</td>\n",
       "      <td>1425942435</td>\n",
       "      <td>ns2186</td>\n",
       "    </tr>\n",
       "    <tr>\n",
       "      <th>2</th>\n",
       "      <td>1</td>\n",
       "      <td>5.0</td>\n",
       "      <td>1425941523</td>\n",
       "      <td>hs2381</td>\n",
       "    </tr>\n",
       "    <tr>\n",
       "      <th>3</th>\n",
       "      <td>1</td>\n",
       "      <td>5.0</td>\n",
       "      <td>1425941546</td>\n",
       "      <td>ns3663</td>\n",
       "    </tr>\n",
       "    <tr>\n",
       "      <th>4</th>\n",
       "      <td>1</td>\n",
       "      <td>5.0</td>\n",
       "      <td>1425941556</td>\n",
       "      <td>as9500</td>\n",
       "    </tr>\n",
       "  </tbody>\n",
       "</table>\n",
       "</div>"
      ],
      "text/plain": [
       "   userId  scored   timestamp      id\n",
       "0       1     1.0  1425941529   as680\n",
       "1       1     4.5  1425942435  ns2186\n",
       "2       1     5.0  1425941523  hs2381\n",
       "3       1     5.0  1425941546  ns3663\n",
       "4       1     5.0  1425941556  as9500"
      ]
     },
     "execution_count": 5,
     "metadata": {},
     "output_type": "execute_result"
    }
   ],
   "source": [
    "dfRatings.head()"
   ]
  },
  {
   "attachments": {},
   "cell_type": "markdown",
   "metadata": {},
   "source": [
    "Realizamos la verificacion a de la informacion de los 8 datasets"
   ]
  },
  {
   "cell_type": "code",
   "execution_count": 6,
   "metadata": {},
   "outputs": [
    {
     "name": "stdout",
     "output_type": "stream",
     "text": [
      "<class 'pandas.core.frame.DataFrame'>\n",
      "Int64Index: 11024289 entries, 0 to 1499999\n",
      "Data columns (total 4 columns):\n",
      " #   Column     Dtype  \n",
      "---  ------     -----  \n",
      " 0   userId     int64  \n",
      " 1   scored     float64\n",
      " 2   timestamp  int64  \n",
      " 3   id         object \n",
      "dtypes: float64(1), int64(2), object(1)\n",
      "memory usage: 420.5+ MB\n"
     ]
    }
   ],
   "source": [
    "dfRatings.info()"
   ]
  },
  {
   "attachments": {},
   "cell_type": "markdown",
   "metadata": {},
   "source": [
    "Realizamos la verificacion de la estadistica de los 8 datasets"
   ]
  },
  {
   "cell_type": "code",
   "execution_count": 7,
   "metadata": {},
   "outputs": [
    {
     "data": {
      "text/html": [
       "<div>\n",
       "<style scoped>\n",
       "    .dataframe tbody tr th:only-of-type {\n",
       "        vertical-align: middle;\n",
       "    }\n",
       "\n",
       "    .dataframe tbody tr th {\n",
       "        vertical-align: top;\n",
       "    }\n",
       "\n",
       "    .dataframe thead th {\n",
       "        text-align: right;\n",
       "    }\n",
       "</style>\n",
       "<table border=\"1\" class=\"dataframe\">\n",
       "  <thead>\n",
       "    <tr style=\"text-align: right;\">\n",
       "      <th></th>\n",
       "      <th>userId</th>\n",
       "      <th>scored</th>\n",
       "      <th>timestamp</th>\n",
       "    </tr>\n",
       "  </thead>\n",
       "  <tbody>\n",
       "    <tr>\n",
       "      <th>count</th>\n",
       "      <td>1.102429e+07</td>\n",
       "      <td>1.102429e+07</td>\n",
       "      <td>1.102429e+07</td>\n",
       "    </tr>\n",
       "    <tr>\n",
       "      <th>mean</th>\n",
       "      <td>8.997251e+04</td>\n",
       "      <td>3.533455e+00</td>\n",
       "      <td>1.172542e+09</td>\n",
       "    </tr>\n",
       "    <tr>\n",
       "      <th>std</th>\n",
       "      <td>8.686601e+04</td>\n",
       "      <td>1.059692e+00</td>\n",
       "      <td>2.056774e+08</td>\n",
       "    </tr>\n",
       "    <tr>\n",
       "      <th>min</th>\n",
       "      <td>1.000000e+00</td>\n",
       "      <td>5.000000e-01</td>\n",
       "      <td>7.896520e+08</td>\n",
       "    </tr>\n",
       "    <tr>\n",
       "      <th>25%</th>\n",
       "      <td>2.855800e+04</td>\n",
       "      <td>3.000000e+00</td>\n",
       "      <td>9.901593e+08</td>\n",
       "    </tr>\n",
       "    <tr>\n",
       "      <th>50%</th>\n",
       "      <td>5.684300e+04</td>\n",
       "      <td>3.500000e+00</td>\n",
       "      <td>1.153610e+09</td>\n",
       "    </tr>\n",
       "    <tr>\n",
       "      <th>75%</th>\n",
       "      <td>1.168670e+05</td>\n",
       "      <td>4.000000e+00</td>\n",
       "      <td>1.360470e+09</td>\n",
       "    </tr>\n",
       "    <tr>\n",
       "      <th>max</th>\n",
       "      <td>2.708960e+05</td>\n",
       "      <td>5.000000e+00</td>\n",
       "      <td>1.501827e+09</td>\n",
       "    </tr>\n",
       "  </tbody>\n",
       "</table>\n",
       "</div>"
      ],
      "text/plain": [
       "             userId        scored     timestamp\n",
       "count  1.102429e+07  1.102429e+07  1.102429e+07\n",
       "mean   8.997251e+04  3.533455e+00  1.172542e+09\n",
       "std    8.686601e+04  1.059692e+00  2.056774e+08\n",
       "min    1.000000e+00  5.000000e-01  7.896520e+08\n",
       "25%    2.855800e+04  3.000000e+00  9.901593e+08\n",
       "50%    5.684300e+04  3.500000e+00  1.153610e+09\n",
       "75%    1.168670e+05  4.000000e+00  1.360470e+09\n",
       "max    2.708960e+05  5.000000e+00  1.501827e+09"
      ]
     },
     "execution_count": 7,
     "metadata": {},
     "output_type": "execute_result"
    }
   ],
   "source": [
    "dfRatings.describe()"
   ]
  },
  {
   "attachments": {},
   "cell_type": "markdown",
   "metadata": {},
   "source": [
    "Corroboramos el tamaño del dataset"
   ]
  },
  {
   "cell_type": "code",
   "execution_count": 8,
   "metadata": {},
   "outputs": [
    {
     "data": {
      "text/plain": [
       "(11024289, 4)"
      ]
     },
     "execution_count": 8,
     "metadata": {},
     "output_type": "execute_result"
    }
   ],
   "source": [
    "dfRatings.shape"
   ]
  },
  {
   "attachments": {},
   "cell_type": "markdown",
   "metadata": {},
   "source": [
    "Se revizan los tipos de datos que posee cada uno de los datsaset"
   ]
  },
  {
   "cell_type": "code",
   "execution_count": 9,
   "metadata": {},
   "outputs": [
    {
     "name": "stdout",
     "output_type": "stream",
     "text": [
      "<class 'pandas.core.frame.DataFrame'>\n",
      "RangeIndex: 9668 entries, 0 to 9667\n",
      "Data columns (total 12 columns):\n",
      " #   Column        Non-Null Count  Dtype \n",
      "---  ------        --------------  ----- \n",
      " 0   show_id       9668 non-null   object\n",
      " 1   type          9668 non-null   object\n",
      " 2   title         9668 non-null   object\n",
      " 3   director      7586 non-null   object\n",
      " 4   cast          8435 non-null   object\n",
      " 5   country       672 non-null    object\n",
      " 6   date_added    155 non-null    object\n",
      " 7   release_year  9668 non-null   int64 \n",
      " 8   rating        9331 non-null   object\n",
      " 9   duration      9668 non-null   object\n",
      " 10  listed_in     9668 non-null   object\n",
      " 11  description   9668 non-null   object\n",
      "dtypes: int64(1), object(11)\n",
      "memory usage: 906.5+ KB\n",
      "<class 'pandas.core.frame.DataFrame'>\n",
      "RangeIndex: 1450 entries, 0 to 1449\n",
      "Data columns (total 12 columns):\n",
      " #   Column        Non-Null Count  Dtype \n",
      "---  ------        --------------  ----- \n",
      " 0   show_id       1450 non-null   object\n",
      " 1   type          1450 non-null   object\n",
      " 2   title         1450 non-null   object\n",
      " 3   director      977 non-null    object\n",
      " 4   cast          1260 non-null   object\n",
      " 5   country       1231 non-null   object\n",
      " 6   date_added    1447 non-null   object\n",
      " 7   release_year  1450 non-null   int64 \n",
      " 8   rating        1447 non-null   object\n",
      " 9   duration      1450 non-null   object\n",
      " 10  listed_in     1450 non-null   object\n",
      " 11  description   1450 non-null   object\n",
      "dtypes: int64(1), object(11)\n",
      "memory usage: 136.1+ KB\n",
      "<class 'pandas.core.frame.DataFrame'>\n",
      "RangeIndex: 3073 entries, 0 to 3072\n",
      "Data columns (total 12 columns):\n",
      " #   Column        Non-Null Count  Dtype  \n",
      "---  ------        --------------  -----  \n",
      " 0   show_id       3073 non-null   object \n",
      " 1   type          3073 non-null   object \n",
      " 2   title         3073 non-null   object \n",
      " 3   director      3 non-null      object \n",
      " 4   cast          0 non-null      float64\n",
      " 5   country       1620 non-null   object \n",
      " 6   date_added    3045 non-null   object \n",
      " 7   release_year  3073 non-null   int64  \n",
      " 8   rating        2553 non-null   object \n",
      " 9   duration      2594 non-null   object \n",
      " 10  listed_in     3073 non-null   object \n",
      " 11  description   3069 non-null   object \n",
      "dtypes: float64(1), int64(1), object(10)\n",
      "memory usage: 288.2+ KB\n",
      "<class 'pandas.core.frame.DataFrame'>\n",
      "RangeIndex: 8807 entries, 0 to 8806\n",
      "Data columns (total 12 columns):\n",
      " #   Column        Non-Null Count  Dtype \n",
      "---  ------        --------------  ----- \n",
      " 0   show_id       8807 non-null   object\n",
      " 1   type          8807 non-null   object\n",
      " 2   title         8807 non-null   object\n",
      " 3   director      6173 non-null   object\n",
      " 4   cast          7982 non-null   object\n",
      " 5   country       7976 non-null   object\n",
      " 6   date_added    8797 non-null   object\n",
      " 7   release_year  8807 non-null   int64 \n",
      " 8   rating        8803 non-null   object\n",
      " 9   duration      8804 non-null   object\n",
      " 10  listed_in     8807 non-null   object\n",
      " 11  description   8807 non-null   object\n",
      "dtypes: int64(1), object(11)\n",
      "memory usage: 825.8+ KB\n"
     ]
    }
   ],
   "source": [
    "amazon_prime_titles.info()#--- int columna 7 de 11 columnas\n",
    "disney_plus_titles.info()#--- int columna 7 de 11 columnas\n",
    "hulu_titles.info() #--- int columna 7 y float en la columna 4 de 11 columnas\n",
    "netflix_titles.info()#--- int columna 7 de 11 columnas"
   ]
  },
  {
   "attachments": {},
   "cell_type": "markdown",
   "metadata": {},
   "source": [
    "Se agrupa y se promedia los Rating por id de pelicula volviendolo un score y se deja el mismo Id con el que biene para poder diferenciar del dataset de las plataformas"
   ]
  },
  {
   "cell_type": "code",
   "execution_count": 10,
   "metadata": {},
   "outputs": [],
   "source": [
    "agrupadosDfRatings=dfRatings[[\"id\",\"scored\",\"userId\"]].groupby(by=['id']).mean()"
   ]
  },
  {
   "attachments": {},
   "cell_type": "markdown",
   "metadata": {},
   "source": [
    "Se copian cada dataset en un objeto, para realizar el analisis de cada uno por individual,con relacion de los datos faltantes."
   ]
  },
  {
   "cell_type": "code",
   "execution_count": 11,
   "metadata": {},
   "outputs": [],
   "source": [
    "amazon_prime_title=amazon_prime_titles.copy()\n",
    "disney_plus_title=disney_plus_titles.copy()\n",
    "hulu_title=hulu_titles .copy() \n",
    "netflix_title=netflix_titles.copy()"
   ]
  },
  {
   "attachments": {},
   "cell_type": "markdown",
   "metadata": {},
   "source": [
    "Se le agrega al dataset de cada plataforma, una columna que identifique a la plataforma a la que pertenece, para cuando se concatenen los dateset, podamos distinguir de donde provienen los datos, adicionalmente nos sirbe como ID de cada fila."
   ]
  },
  {
   "cell_type": "code",
   "execution_count": 12,
   "metadata": {},
   "outputs": [],
   "source": [
    "amazon_prime_title[\"show_id\"]=\"a\"+amazon_prime_title[\"show_id\"]\n",
    "disney_plus_title[\"show_id\"]=\"d\"+disney_plus_title[\"show_id\"]\n",
    "hulu_title[\"show_id\"]=\"h\"+hulu_title[\"show_id\"]\n",
    "netflix_title[\"show_id\"]=\"n\"+netflix_title[\"show_id\"]\n",
    "\n",
    "#se crea una columna con el nombre de las plataformas\n",
    "amazon_prime_title[\"plataforma\"]=\"amazon\"\n",
    "disney_plus_title[\"plataforma\"]=\"disney\"\n",
    "hulu_title[\"plataforma\"]=\"hulu\"\n",
    "netflix_title[\"plataforma\"]=\"netflix\""
   ]
  },
  {
   "attachments": {},
   "cell_type": "markdown",
   "metadata": {},
   "source": [
    "Se saca un porcentaje de los valores faltantes con relacion a los valores totales para poder dimencionar el trabajo que toca elaborase en caso de decidir arreglarlos por individual."
   ]
  },
  {
   "cell_type": "code",
   "execution_count": 13,
   "metadata": {},
   "outputs": [
    {
     "name": "stdout",
     "output_type": "stream",
     "text": [
      "El % de nulos en amazon frente al total es : 0.1763231596702842\n",
      "El % de nulos en disney frente al total es : 0.04710875331564987\n",
      "El % de nulos en hulu frente al total es : 0.21595033667926605\n",
      "El % de nulos en netflix frente al total es : 0.03761867745062931\n"
     ]
    }
   ],
   "source": [
    "porceAma=amazon_prime_title.isnull().sum().sum()/amazon_prime_title.size\n",
    "porceDis=disney_plus_title.isnull().sum().sum()/disney_plus_title.size\n",
    "porceHul=hulu_title.isnull().sum().sum()/hulu_title.size\n",
    "porceNet=netflix_title.isnull().sum().sum()/netflix_title.size\n",
    "print(f\"El % de nulos en amazon frente al total es : {porceAma}\")\n",
    "print(f\"El % de nulos en disney frente al total es : {porceDis}\")\n",
    "print(f\"El % de nulos en hulu frente al total es : {porceHul}\")\n",
    "print(f\"El % de nulos en netflix frente al total es : {porceNet}\")"
   ]
  },
  {
   "attachments": {},
   "cell_type": "markdown",
   "metadata": {},
   "source": [
    "Realizo la prueba con todos los dataset concatenados con el fin de saber si puedo arreglarlo unidos y evitar un desgaste extra."
   ]
  },
  {
   "attachments": {},
   "cell_type": "markdown",
   "metadata": {},
   "source": [
    "Se procede a realizar concatenacion de los dataset en forma de filas aprovechando que poseen la mismas estrutora de informacion y posteriormente se genera una copia del Dataframe, para evitar modificar del original."
   ]
  },
  {
   "cell_type": "code",
   "execution_count": 14,
   "metadata": {},
   "outputs": [
    {
     "name": "stderr",
     "output_type": "stream",
     "text": [
      "C:\\Users\\CAC\\AppData\\Local\\Temp\\ipykernel_1140\\2246530649.py:4: FutureWarning: The frame.append method is deprecated and will be removed from pandas in a future version. Use pandas.concat instead.\n",
      "  General = amazon_prime_title.append(disney_plus_title).append(hulu_title).append(netflix_title)\n",
      "C:\\Users\\CAC\\AppData\\Local\\Temp\\ipykernel_1140\\2246530649.py:4: FutureWarning: The frame.append method is deprecated and will be removed from pandas in a future version. Use pandas.concat instead.\n",
      "  General = amazon_prime_title.append(disney_plus_title).append(hulu_title).append(netflix_title)\n"
     ]
    }
   ],
   "source": [
    "#amazonYdisney=pd.concat([amazon_prime_titles,disney_plus_titles],axis=0)\n",
    "#huluYnetflix=pd.concat([hulu_titles,netflix_titles],axis=0)\n",
    "#General=pd.concat([amazonYdisney,huluYnetflix],axis=0)\n",
    "General = amazon_prime_title.append(disney_plus_title).append(hulu_title).append(netflix_title)"
   ]
  },
  {
   "attachments": {},
   "cell_type": "markdown",
   "metadata": {},
   "source": [
    "Se para el score anteriormente creado y al dataset general con el fin de unificar informacion relevante del proyecto."
   ]
  },
  {
   "cell_type": "code",
   "execution_count": 15,
   "metadata": {},
   "outputs": [],
   "source": [
    "#eaeaeaeaeaeeae hatagaggfa gagagag fgaffafa afgafaff agafa\n",
    "\n"
   ]
  },
  {
   "attachments": {},
   "cell_type": "markdown",
   "metadata": {},
   "source": [
    "Realizo una copia del dataset para no afectar el original"
   ]
  },
  {
   "cell_type": "code",
   "execution_count": 16,
   "metadata": {},
   "outputs": [
    {
     "data": {
      "text/html": [
       "<div>\n",
       "<style scoped>\n",
       "    .dataframe tbody tr th:only-of-type {\n",
       "        vertical-align: middle;\n",
       "    }\n",
       "\n",
       "    .dataframe tbody tr th {\n",
       "        vertical-align: top;\n",
       "    }\n",
       "\n",
       "    .dataframe thead th {\n",
       "        text-align: right;\n",
       "    }\n",
       "</style>\n",
       "<table border=\"1\" class=\"dataframe\">\n",
       "  <thead>\n",
       "    <tr style=\"text-align: right;\">\n",
       "      <th></th>\n",
       "      <th>show_id</th>\n",
       "      <th>type</th>\n",
       "      <th>title</th>\n",
       "      <th>director</th>\n",
       "      <th>cast</th>\n",
       "      <th>country</th>\n",
       "      <th>date_added</th>\n",
       "      <th>release_year</th>\n",
       "      <th>rating</th>\n",
       "      <th>duration</th>\n",
       "      <th>listed_in</th>\n",
       "      <th>description</th>\n",
       "      <th>plataforma</th>\n",
       "    </tr>\n",
       "  </thead>\n",
       "  <tbody>\n",
       "    <tr>\n",
       "      <th>0</th>\n",
       "      <td>as1</td>\n",
       "      <td>Movie</td>\n",
       "      <td>The Grand Seduction</td>\n",
       "      <td>Don McKellar</td>\n",
       "      <td>Brendan Gleeson, Taylor Kitsch, Gordon Pinsent</td>\n",
       "      <td>Canada</td>\n",
       "      <td>March 30, 2021</td>\n",
       "      <td>2014</td>\n",
       "      <td>NaN</td>\n",
       "      <td>113 min</td>\n",
       "      <td>Comedy, Drama</td>\n",
       "      <td>A small fishing village must procure a local d...</td>\n",
       "      <td>amazon</td>\n",
       "    </tr>\n",
       "  </tbody>\n",
       "</table>\n",
       "</div>"
      ],
      "text/plain": [
       "  show_id   type                title      director  \\\n",
       "0     as1  Movie  The Grand Seduction  Don McKellar   \n",
       "\n",
       "                                             cast country      date_added  \\\n",
       "0  Brendan Gleeson, Taylor Kitsch, Gordon Pinsent  Canada  March 30, 2021   \n",
       "\n",
       "   release_year rating duration      listed_in  \\\n",
       "0          2014    NaN  113 min  Comedy, Drama   \n",
       "\n",
       "                                         description plataforma  \n",
       "0  A small fishing village must procure a local d...     amazon  "
      ]
     },
     "execution_count": 16,
     "metadata": {},
     "output_type": "execute_result"
    }
   ],
   "source": [
    "dataGeneral=General.copy()\n",
    "dataGeneral.head(1)"
   ]
  },
  {
   "attachments": {},
   "cell_type": "markdown",
   "metadata": {},
   "source": [
    "Analizo la informacio del dataset Datageneral donde se encuentran ya unidos todos los dataset "
   ]
  },
  {
   "cell_type": "code",
   "execution_count": 17,
   "metadata": {},
   "outputs": [
    {
     "name": "stdout",
     "output_type": "stream",
     "text": [
      "<class 'pandas.core.frame.DataFrame'>\n",
      "Int64Index: 22998 entries, 0 to 8806\n",
      "Data columns (total 13 columns):\n",
      " #   Column        Non-Null Count  Dtype \n",
      "---  ------        --------------  ----- \n",
      " 0   show_id       22998 non-null  object\n",
      " 1   type          22998 non-null  object\n",
      " 2   title         22998 non-null  object\n",
      " 3   director      14739 non-null  object\n",
      " 4   cast          17677 non-null  object\n",
      " 5   country       11499 non-null  object\n",
      " 6   date_added    13444 non-null  object\n",
      " 7   release_year  22998 non-null  int64 \n",
      " 8   rating        22134 non-null  object\n",
      " 9   duration      22516 non-null  object\n",
      " 10  listed_in     22998 non-null  object\n",
      " 11  description   22994 non-null  object\n",
      " 12  plataforma    22998 non-null  object\n",
      "dtypes: int64(1), object(12)\n",
      "memory usage: 2.5+ MB\n"
     ]
    }
   ],
   "source": [
    "dataGeneral.info()"
   ]
  },
  {
   "attachments": {},
   "cell_type": "markdown",
   "metadata": {},
   "source": [
    "Renombramos la columna show_id por id"
   ]
  },
  {
   "cell_type": "code",
   "execution_count": 18,
   "metadata": {},
   "outputs": [
    {
     "data": {
      "text/html": [
       "<div>\n",
       "<style scoped>\n",
       "    .dataframe tbody tr th:only-of-type {\n",
       "        vertical-align: middle;\n",
       "    }\n",
       "\n",
       "    .dataframe tbody tr th {\n",
       "        vertical-align: top;\n",
       "    }\n",
       "\n",
       "    .dataframe thead th {\n",
       "        text-align: right;\n",
       "    }\n",
       "</style>\n",
       "<table border=\"1\" class=\"dataframe\">\n",
       "  <thead>\n",
       "    <tr style=\"text-align: right;\">\n",
       "      <th></th>\n",
       "      <th>id</th>\n",
       "      <th>type</th>\n",
       "      <th>title</th>\n",
       "      <th>director</th>\n",
       "      <th>cast</th>\n",
       "      <th>country</th>\n",
       "      <th>date_added</th>\n",
       "      <th>release_year</th>\n",
       "      <th>scored</th>\n",
       "      <th>duration</th>\n",
       "      <th>listed_in</th>\n",
       "      <th>description</th>\n",
       "      <th>plataforma</th>\n",
       "    </tr>\n",
       "  </thead>\n",
       "  <tbody>\n",
       "    <tr>\n",
       "      <th>0</th>\n",
       "      <td>as1</td>\n",
       "      <td>Movie</td>\n",
       "      <td>The Grand Seduction</td>\n",
       "      <td>Don McKellar</td>\n",
       "      <td>Brendan Gleeson, Taylor Kitsch, Gordon Pinsent</td>\n",
       "      <td>Canada</td>\n",
       "      <td>March 30, 2021</td>\n",
       "      <td>2014</td>\n",
       "      <td>NaN</td>\n",
       "      <td>113 min</td>\n",
       "      <td>Comedy, Drama</td>\n",
       "      <td>A small fishing village must procure a local d...</td>\n",
       "      <td>amazon</td>\n",
       "    </tr>\n",
       "  </tbody>\n",
       "</table>\n",
       "</div>"
      ],
      "text/plain": [
       "    id   type                title      director  \\\n",
       "0  as1  Movie  The Grand Seduction  Don McKellar   \n",
       "\n",
       "                                             cast country      date_added  \\\n",
       "0  Brendan Gleeson, Taylor Kitsch, Gordon Pinsent  Canada  March 30, 2021   \n",
       "\n",
       "   release_year scored duration      listed_in  \\\n",
       "0          2014    NaN  113 min  Comedy, Drama   \n",
       "\n",
       "                                         description plataforma  \n",
       "0  A small fishing village must procure a local d...     amazon  "
      ]
     },
     "execution_count": 18,
     "metadata": {},
     "output_type": "execute_result"
    }
   ],
   "source": [
    "#dataGeneral.rename(columns={ 'show_id' : 'id' },inplace=True)\n",
    "dataGeneral.rename(columns={ 'show_id' : 'id',\"rating\":\"scored\" },inplace=True)\n",
    "dataGeneral.head(1)"
   ]
  },
  {
   "attachments": {},
   "cell_type": "markdown",
   "metadata": {},
   "source": [
    "Extraemos los nombres de las columnas del datafrema Datageneral que son categoricas"
   ]
  },
  {
   "cell_type": "code",
   "execution_count": 19,
   "metadata": {},
   "outputs": [
    {
     "data": {
      "text/plain": [
       "Index(['id', 'type', 'title', 'director', 'cast', 'country', 'date_added',\n",
       "       'release_year', 'scored', 'duration', 'listed_in', 'description',\n",
       "       'plataforma'],\n",
       "      dtype='object')"
      ]
     },
     "execution_count": 19,
     "metadata": {},
     "output_type": "execute_result"
    }
   ],
   "source": [
    "dataGeneral.columns"
   ]
  },
  {
   "cell_type": "code",
   "execution_count": 20,
   "metadata": {},
   "outputs": [
    {
     "data": {
      "text/html": [
       "<div>\n",
       "<style scoped>\n",
       "    .dataframe tbody tr th:only-of-type {\n",
       "        vertical-align: middle;\n",
       "    }\n",
       "\n",
       "    .dataframe tbody tr th {\n",
       "        vertical-align: top;\n",
       "    }\n",
       "\n",
       "    .dataframe thead th {\n",
       "        text-align: right;\n",
       "    }\n",
       "</style>\n",
       "<table border=\"1\" class=\"dataframe\">\n",
       "  <thead>\n",
       "    <tr style=\"text-align: right;\">\n",
       "      <th></th>\n",
       "      <th>id</th>\n",
       "      <th>type</th>\n",
       "      <th>title</th>\n",
       "      <th>director</th>\n",
       "      <th>cast</th>\n",
       "      <th>country</th>\n",
       "      <th>date_added</th>\n",
       "      <th>release_year</th>\n",
       "      <th>scored_x</th>\n",
       "      <th>duration</th>\n",
       "      <th>listed_in</th>\n",
       "      <th>description</th>\n",
       "      <th>plataforma</th>\n",
       "      <th>scored_y</th>\n",
       "      <th>userId</th>\n",
       "    </tr>\n",
       "  </thead>\n",
       "  <tbody>\n",
       "    <tr>\n",
       "      <th>0</th>\n",
       "      <td>as1</td>\n",
       "      <td>Movie</td>\n",
       "      <td>The Grand Seduction</td>\n",
       "      <td>Don McKellar</td>\n",
       "      <td>Brendan Gleeson, Taylor Kitsch, Gordon Pinsent</td>\n",
       "      <td>Canada</td>\n",
       "      <td>March 30, 2021</td>\n",
       "      <td>2014</td>\n",
       "      <td>NaN</td>\n",
       "      <td>113 min</td>\n",
       "      <td>Comedy, Drama</td>\n",
       "      <td>A small fishing village must procure a local d...</td>\n",
       "      <td>amazon</td>\n",
       "      <td>3.467131</td>\n",
       "      <td>99178.623506</td>\n",
       "    </tr>\n",
       "    <tr>\n",
       "      <th>1</th>\n",
       "      <td>as2</td>\n",
       "      <td>Movie</td>\n",
       "      <td>Take Care Good Night</td>\n",
       "      <td>Girish Joshi</td>\n",
       "      <td>Mahesh Manjrekar, Abhay Mahajan, Sachin Khedekar</td>\n",
       "      <td>India</td>\n",
       "      <td>March 30, 2021</td>\n",
       "      <td>2018</td>\n",
       "      <td>13+</td>\n",
       "      <td>110 min</td>\n",
       "      <td>Drama, International</td>\n",
       "      <td>A Metro Family decides to fight a Cyber Crimin...</td>\n",
       "      <td>amazon</td>\n",
       "      <td>3.548682</td>\n",
       "      <td>93837.476673</td>\n",
       "    </tr>\n",
       "  </tbody>\n",
       "</table>\n",
       "</div>"
      ],
      "text/plain": [
       "    id   type                 title      director  \\\n",
       "0  as1  Movie   The Grand Seduction  Don McKellar   \n",
       "1  as2  Movie  Take Care Good Night  Girish Joshi   \n",
       "\n",
       "                                               cast country      date_added  \\\n",
       "0    Brendan Gleeson, Taylor Kitsch, Gordon Pinsent  Canada  March 30, 2021   \n",
       "1  Mahesh Manjrekar, Abhay Mahajan, Sachin Khedekar   India  March 30, 2021   \n",
       "\n",
       "   release_year scored_x duration             listed_in  \\\n",
       "0          2014      NaN  113 min         Comedy, Drama   \n",
       "1          2018      13+  110 min  Drama, International   \n",
       "\n",
       "                                         description plataforma  scored_y  \\\n",
       "0  A small fishing village must procure a local d...     amazon  3.467131   \n",
       "1  A Metro Family decides to fight a Cyber Crimin...     amazon  3.548682   \n",
       "\n",
       "         userId  \n",
       "0  99178.623506  \n",
       "1  93837.476673  "
      ]
     },
     "execution_count": 20,
     "metadata": {},
     "output_type": "execute_result"
    }
   ],
   "source": [
    "combinacionDF=pd.merge(dataGeneral,agrupadosDfRatings, on=\"id\",how=\"outer\")\n",
    "combinacionDF.head(2)"
   ]
  },
  {
   "attachments": {},
   "cell_type": "markdown",
   "metadata": {},
   "source": [
    "Extraemos los nombres de las columna que vamos cambiar, para examinar los subniveles, mirar columnas con un unico valor, etc."
   ]
  },
  {
   "cell_type": "code",
   "execution_count": 21,
   "metadata": {},
   "outputs": [],
   "source": [
    "col_categoricas=['id', 'type', 'title', 'director', 'cast', 'country', 'date_added',\n",
    "       'duration', 'listed_in', 'description',\n",
    "       'plataforma']"
   ]
  },
  {
   "cell_type": "code",
   "execution_count": 22,
   "metadata": {},
   "outputs": [
    {
     "name": "stdout",
     "output_type": "stream",
     "text": [
      "<class 'pandas.core.frame.DataFrame'>\n",
      "Int64Index: 22998 entries, 0 to 22997\n",
      "Data columns (total 15 columns):\n",
      " #   Column        Non-Null Count  Dtype  \n",
      "---  ------        --------------  -----  \n",
      " 0   id            22998 non-null  object \n",
      " 1   type          22998 non-null  object \n",
      " 2   title         22998 non-null  object \n",
      " 3   director      14739 non-null  object \n",
      " 4   cast          17677 non-null  object \n",
      " 5   country       11499 non-null  object \n",
      " 6   date_added    13444 non-null  object \n",
      " 7   release_year  22998 non-null  int64  \n",
      " 8   scored_x      22134 non-null  object \n",
      " 9   duration      22516 non-null  object \n",
      " 10  listed_in     22998 non-null  object \n",
      " 11  description   22994 non-null  object \n",
      " 12  plataforma    22998 non-null  object \n",
      " 13  scored_y      22998 non-null  float64\n",
      " 14  userId        22998 non-null  float64\n",
      "dtypes: float64(2), int64(1), object(12)\n",
      "memory usage: 2.8+ MB\n"
     ]
    }
   ],
   "source": [
    "combinacionDF.info()"
   ]
  },
  {
   "attachments": {},
   "cell_type": "markdown",
   "metadata": {},
   "source": [
    "Realizamos un analisis para saber si le podemos sacar subniveles a algunas columnas atravez de Dummies con la lista de columnas categoricas anterior mente extraidas."
   ]
  },
  {
   "cell_type": "code",
   "execution_count": 23,
   "metadata": {},
   "outputs": [
    {
     "data": {
      "text/html": [
       "<div>\n",
       "<style scoped>\n",
       "    .dataframe tbody tr th:only-of-type {\n",
       "        vertical-align: middle;\n",
       "    }\n",
       "\n",
       "    .dataframe tbody tr th {\n",
       "        vertical-align: top;\n",
       "    }\n",
       "\n",
       "    .dataframe thead th {\n",
       "        text-align: right;\n",
       "    }\n",
       "</style>\n",
       "<table border=\"1\" class=\"dataframe\">\n",
       "  <thead>\n",
       "    <tr style=\"text-align: right;\">\n",
       "      <th></th>\n",
       "      <th>Subniveles</th>\n",
       "      <th>Nombre</th>\n",
       "    </tr>\n",
       "  </thead>\n",
       "  <tbody>\n",
       "    <tr>\n",
       "      <th>1</th>\n",
       "      <td>2</td>\n",
       "      <td>type</td>\n",
       "    </tr>\n",
       "    <tr>\n",
       "      <th>10</th>\n",
       "      <td>4</td>\n",
       "      <td>plataforma</td>\n",
       "    </tr>\n",
       "    <tr>\n",
       "      <th>7</th>\n",
       "      <td>253</td>\n",
       "      <td>duration</td>\n",
       "    </tr>\n",
       "    <tr>\n",
       "      <th>5</th>\n",
       "      <td>886</td>\n",
       "      <td>country</td>\n",
       "    </tr>\n",
       "    <tr>\n",
       "      <th>8</th>\n",
       "      <td>1687</td>\n",
       "      <td>listed_in</td>\n",
       "    </tr>\n",
       "    <tr>\n",
       "      <th>6</th>\n",
       "      <td>2058</td>\n",
       "      <td>date_added</td>\n",
       "    </tr>\n",
       "    <tr>\n",
       "      <th>3</th>\n",
       "      <td>10106</td>\n",
       "      <td>director</td>\n",
       "    </tr>\n",
       "    <tr>\n",
       "      <th>4</th>\n",
       "      <td>16748</td>\n",
       "      <td>cast</td>\n",
       "    </tr>\n",
       "    <tr>\n",
       "      <th>2</th>\n",
       "      <td>22115</td>\n",
       "      <td>title</td>\n",
       "    </tr>\n",
       "    <tr>\n",
       "      <th>9</th>\n",
       "      <td>22670</td>\n",
       "      <td>description</td>\n",
       "    </tr>\n",
       "    <tr>\n",
       "      <th>0</th>\n",
       "      <td>22998</td>\n",
       "      <td>id</td>\n",
       "    </tr>\n",
       "  </tbody>\n",
       "</table>\n",
       "</div>"
      ],
      "text/plain": [
       "    Subniveles       Nombre\n",
       "1            2         type\n",
       "10           4   plataforma\n",
       "7          253     duration\n",
       "5          886      country\n",
       "8         1687    listed_in\n",
       "6         2058   date_added\n",
       "3        10106     director\n",
       "4        16748         cast\n",
       "2        22115        title\n",
       "9        22670  description\n",
       "0        22998           id"
      ]
     },
     "execution_count": 23,
     "metadata": {},
     "output_type": "execute_result"
    }
   ],
   "source": [
    "listNivel=[]\n",
    "nomCol=[]\n",
    "for col in col_categoricas:\n",
    "    listNivel.append(col)\n",
    "    nomCol.append(combinacionDF[col].nunique())\n",
    "#   #print(f\"columna { col } : { dataHospital[col].nunique()}  subniveles\")\n",
    "subniveles=pd.DataFrame(list(zip(nomCol,listNivel)),columns=[\"Subniveles\",\"Nombre\"])\n",
    "subniveles.sort_values(\"Subniveles\",ascending=True)"
   ]
  },
  {
   "attachments": {},
   "cell_type": "markdown",
   "metadata": {},
   "source": [
    "Se revisa los porcentajes de faltantes frente a los datos totales de todo el dataframe y columna por columna, ademas que nos muestra cuantos datos por columnas faltan, esto nos ayuda a tener una mejor vision de los datos."
   ]
  },
  {
   "cell_type": "code",
   "execution_count": 24,
   "metadata": {},
   "outputs": [
    {
     "name": "stdout",
     "output_type": "stream",
     "text": [
      "----------- Porcentaje de nulos en el dataset general ------------- \n",
      "country         0.500000\n",
      "date_added      0.415427\n",
      "director        0.359118\n",
      "cast            0.231368\n",
      "scored_x        0.037568\n",
      "duration        0.020958\n",
      "description     0.000174\n",
      "id              0.000000\n",
      "type            0.000000\n",
      "title           0.000000\n",
      "release_year    0.000000\n",
      "listed_in       0.000000\n",
      "plataforma      0.000000\n",
      "scored_y        0.000000\n",
      "userId          0.000000\n",
      "dtype: float64\n",
      "----------- Total de nulos en el dataset general ------------- \n",
      "country         11499\n",
      "date_added       9554\n",
      "director         8259\n",
      "cast             5321\n",
      "scored_x          864\n",
      "duration          482\n",
      "description         4\n",
      "id                  0\n",
      "type                0\n",
      "title               0\n",
      "release_year        0\n",
      "listed_in           0\n",
      "plataforma          0\n",
      "scored_y            0\n",
      "userId              0\n",
      "dtype: int64\n"
     ]
    }
   ],
   "source": [
    "total=combinacionDF.isnull().sum().sort_values(ascending=False)\n",
    "porcenNulos=((combinacionDF.isnull().sum()/combinacionDF.isnull().count()).sort_values(ascending=False))\n",
    "#Datafaltantes=pd.concat([total,porcenNulos],axis=1,keys=[\"Total\",\"Porcentaje\"])\n",
    "#print(Datafaltantes[Datafaltantes[\"Total\"]>0],sep=\"\\n\")\n",
    "print (\"----------- Porcentaje de nulos en el dataset general ------------- \")\n",
    "print (porcenNulos)\n",
    "print (\"----------- Total de nulos en el dataset general ------------- \")\n",
    "print(total)"
   ]
  },
  {
   "cell_type": "code",
   "execution_count": 25,
   "metadata": {},
   "outputs": [
    {
     "name": "stdout",
     "output_type": "stream",
     "text": [
      " Total de datos 344970 Total de datos nulos 35983  porcentaje total   0.1043076209525466\n"
     ]
    }
   ],
   "source": [
    "TotalDG=combinacionDF.size\n",
    "TotalNulosDG=combinacionDF.isnull().sum().sum()\n",
    "PorcenTotalNulosDG=combinacionDF.isnull().sum().sum()/combinacionDF.size\n",
    "print(f\" Total de datos {TotalDG} Total de datos nulos {TotalNulosDG}  porcentaje total   {PorcenTotalNulosDG}\")"
   ]
  },
  {
   "cell_type": "code",
   "execution_count": 26,
   "metadata": {},
   "outputs": [
    {
     "data": {
      "text/plain": [
       "array(['The Grand Seduction', 'Take Care Good Night',\n",
       "       'Secrets of Deception', ..., 'Zombieland', 'Zoom', 'Zubaan'],\n",
       "      dtype=object)"
      ]
     },
     "execution_count": 26,
     "metadata": {},
     "output_type": "execute_result"
    }
   ],
   "source": [
    "combinacionDF[\"title\"].unique()"
   ]
  },
  {
   "attachments": {},
   "cell_type": "markdown",
   "metadata": {},
   "source": [
    "Se procede la comberti todos los datos de las columnas categoricas a minusculas en caso de que no lo esten, con el fin de mejoras la busquedas y estandarizar los testos"
   ]
  },
  {
   "cell_type": "code",
   "execution_count": 27,
   "metadata": {},
   "outputs": [],
   "source": [
    "for col in combinacionDF:\n",
    "    if col in col_categoricas:\n",
    "       combinacionDF[col]=combinacionDF[col].str.lower()"
   ]
  },
  {
   "attachments": {},
   "cell_type": "markdown",
   "metadata": {},
   "source": [
    "Se procede a eleminar los espacios vacios al inicio y al final de cada palabra de todo el dataframe, pero antes realizamos una prueba de testeo."
   ]
  },
  {
   "cell_type": "code",
   "execution_count": 28,
   "metadata": {},
   "outputs": [
    {
     "data": {
      "text/html": [
       "<div>\n",
       "<style scoped>\n",
       "    .dataframe tbody tr th:only-of-type {\n",
       "        vertical-align: middle;\n",
       "    }\n",
       "\n",
       "    .dataframe tbody tr th {\n",
       "        vertical-align: top;\n",
       "    }\n",
       "\n",
       "    .dataframe thead th {\n",
       "        text-align: right;\n",
       "    }\n",
       "</style>\n",
       "<table border=\"1\" class=\"dataframe\">\n",
       "  <thead>\n",
       "    <tr style=\"text-align: right;\">\n",
       "      <th></th>\n",
       "      <th>id</th>\n",
       "      <th>type</th>\n",
       "      <th>title</th>\n",
       "      <th>director</th>\n",
       "      <th>cast</th>\n",
       "      <th>country</th>\n",
       "      <th>date_added</th>\n",
       "      <th>release_year</th>\n",
       "      <th>scored_x</th>\n",
       "      <th>duration</th>\n",
       "      <th>listed_in</th>\n",
       "      <th>description</th>\n",
       "      <th>plataforma</th>\n",
       "      <th>scored_y</th>\n",
       "      <th>userId</th>\n",
       "    </tr>\n",
       "  </thead>\n",
       "  <tbody>\n",
       "    <tr>\n",
       "      <th>0</th>\n",
       "      <td>as1</td>\n",
       "      <td>movie</td>\n",
       "      <td>the@grand@seduction</td>\n",
       "      <td>don@mckellar</td>\n",
       "      <td>brendan@gleeson,@taylor@kitsch,@gordon@pinsent</td>\n",
       "      <td>canada</td>\n",
       "      <td>march@30,@2021</td>\n",
       "      <td>2014</td>\n",
       "      <td>NaN</td>\n",
       "      <td>113@min</td>\n",
       "      <td>comedy,@drama</td>\n",
       "      <td>a@small@fishing@village@must@procure@a@local@d...</td>\n",
       "      <td>amazon</td>\n",
       "      <td>3.467131</td>\n",
       "      <td>99178.623506</td>\n",
       "    </tr>\n",
       "    <tr>\n",
       "      <th>1</th>\n",
       "      <td>as2</td>\n",
       "      <td>movie</td>\n",
       "      <td>take@care@good@night</td>\n",
       "      <td>girish@joshi</td>\n",
       "      <td>mahesh@manjrekar,@abhay@mahajan,@sachin@khedekar</td>\n",
       "      <td>india</td>\n",
       "      <td>march@30,@2021</td>\n",
       "      <td>2018</td>\n",
       "      <td>13+</td>\n",
       "      <td>110@min</td>\n",
       "      <td>drama,@international</td>\n",
       "      <td>a@metro@family@decides@to@fight@a@cyber@crimin...</td>\n",
       "      <td>amazon</td>\n",
       "      <td>3.548682</td>\n",
       "      <td>93837.476673</td>\n",
       "    </tr>\n",
       "  </tbody>\n",
       "</table>\n",
       "</div>"
      ],
      "text/plain": [
       "    id   type                 title      director  \\\n",
       "0  as1  movie   the@grand@seduction  don@mckellar   \n",
       "1  as2  movie  take@care@good@night  girish@joshi   \n",
       "\n",
       "                                               cast country      date_added  \\\n",
       "0    brendan@gleeson,@taylor@kitsch,@gordon@pinsent  canada  march@30,@2021   \n",
       "1  mahesh@manjrekar,@abhay@mahajan,@sachin@khedekar   india  march@30,@2021   \n",
       "\n",
       "   release_year scored_x duration             listed_in  \\\n",
       "0          2014      NaN  113@min         comedy,@drama   \n",
       "1          2018      13+  110@min  drama,@international   \n",
       "\n",
       "                                         description plataforma  scored_y  \\\n",
       "0  a@small@fishing@village@must@procure@a@local@d...     amazon  3.467131   \n",
       "1  a@metro@family@decides@to@fight@a@cyber@crimin...     amazon  3.548682   \n",
       "\n",
       "         userId  \n",
       "0  99178.623506  \n",
       "1  93837.476673  "
      ]
     },
     "execution_count": 28,
     "metadata": {},
     "output_type": "execute_result"
    }
   ],
   "source": [
    "#--> Remplazar los espacios vacios con un caracter espacial para realizar la prueba \n",
    "combinacionDF=combinacionDF.replace(\" \",\"@\",regex=True)\n",
    "combinacionDF.head(2)"
   ]
  },
  {
   "cell_type": "code",
   "execution_count": 29,
   "metadata": {},
   "outputs": [],
   "source": [
    "#--> Que alguna columna en su nombre contenga este caracter en cualquier lugar (@) \n",
    "#dataGeneral.filter(regex='[z]',axis=1)"
   ]
  },
  {
   "cell_type": "code",
   "execution_count": 30,
   "metadata": {},
   "outputs": [],
   "source": [
    "#-->  quitan espacio vacio al inicio y final de cada strig en todo el df\n",
    "#df=da.replace(\" \",\"@\",regex=True)--># Remplazar los espacios vacios\n",
    "combinacionDF=combinacionDF.replace(\"@\",\" \",regex=True)#--> Remplazar las @ por espacios vacios para reaizar pruebas\n",
    "combinacionDF=combinacionDF.applymap(lambda x:x.strip() if isinstance (x, str) else x)"
   ]
  },
  {
   "attachments": {},
   "cell_type": "markdown",
   "metadata": {},
   "source": [
    "Realizamos la covercion de una columna de tipo dato a tipo fecha por medio de la funcion de pandas to_datetime"
   ]
  },
  {
   "cell_type": "code",
   "execution_count": 31,
   "metadata": {},
   "outputs": [
    {
     "data": {
      "text/html": [
       "<div>\n",
       "<style scoped>\n",
       "    .dataframe tbody tr th:only-of-type {\n",
       "        vertical-align: middle;\n",
       "    }\n",
       "\n",
       "    .dataframe tbody tr th {\n",
       "        vertical-align: top;\n",
       "    }\n",
       "\n",
       "    .dataframe thead th {\n",
       "        text-align: right;\n",
       "    }\n",
       "</style>\n",
       "<table border=\"1\" class=\"dataframe\">\n",
       "  <thead>\n",
       "    <tr style=\"text-align: right;\">\n",
       "      <th></th>\n",
       "      <th>id</th>\n",
       "      <th>type</th>\n",
       "      <th>title</th>\n",
       "      <th>director</th>\n",
       "      <th>cast</th>\n",
       "      <th>country</th>\n",
       "      <th>date_added</th>\n",
       "      <th>release_year</th>\n",
       "      <th>scored_x</th>\n",
       "      <th>duration</th>\n",
       "      <th>listed_in</th>\n",
       "      <th>description</th>\n",
       "      <th>plataforma</th>\n",
       "      <th>scored_y</th>\n",
       "      <th>userId</th>\n",
       "    </tr>\n",
       "  </thead>\n",
       "  <tbody>\n",
       "    <tr>\n",
       "      <th>0</th>\n",
       "      <td>as1</td>\n",
       "      <td>movie</td>\n",
       "      <td>the grand seduction</td>\n",
       "      <td>don mckellar</td>\n",
       "      <td>brendan gleeson, taylor kitsch, gordon pinsent</td>\n",
       "      <td>canada</td>\n",
       "      <td>2021-03-30</td>\n",
       "      <td>2014</td>\n",
       "      <td>NaN</td>\n",
       "      <td>113 min</td>\n",
       "      <td>comedy, drama</td>\n",
       "      <td>a small fishing village must procure a local d...</td>\n",
       "      <td>amazon</td>\n",
       "      <td>3.467131</td>\n",
       "      <td>99178.623506</td>\n",
       "    </tr>\n",
       "  </tbody>\n",
       "</table>\n",
       "</div>"
      ],
      "text/plain": [
       "    id   type                title      director  \\\n",
       "0  as1  movie  the grand seduction  don mckellar   \n",
       "\n",
       "                                             cast country date_added  \\\n",
       "0  brendan gleeson, taylor kitsch, gordon pinsent  canada 2021-03-30   \n",
       "\n",
       "   release_year scored_x duration      listed_in  \\\n",
       "0          2014      NaN  113 min  comedy, drama   \n",
       "\n",
       "                                         description plataforma  scored_y  \\\n",
       "0  a small fishing village must procure a local d...     amazon  3.467131   \n",
       "\n",
       "         userId  \n",
       "0  99178.623506  "
      ]
     },
     "execution_count": 31,
     "metadata": {},
     "output_type": "execute_result"
    }
   ],
   "source": [
    "\n",
    "combinacionDF['date_added'] = pd.to_datetime(combinacionDF['date_added'])\n",
    "combinacionDF.head(1)"
   ]
  },
  {
   "attachments": {},
   "cell_type": "markdown",
   "metadata": {},
   "source": [
    "Generamos una copia del dataset para evitar modificar algun dato,extraemos la columna Duracion y la dividimos en dos columnas con el fin mejorar el estadar y cumplir con el requerimiento para el proyecto,nombramos las columnas y una le cambiamos el tipo por intero,replazamos los valores erroneos por unos adecuados,Unimos el dataset original \"dataGeneral\" al que le realizamos las modificaciones \"dataDuracion\" columna por columna"
   ]
  },
  {
   "cell_type": "code",
   "execution_count": 32,
   "metadata": {},
   "outputs": [
    {
     "data": {
      "text/html": [
       "<div>\n",
       "<style scoped>\n",
       "    .dataframe tbody tr th:only-of-type {\n",
       "        vertical-align: middle;\n",
       "    }\n",
       "\n",
       "    .dataframe tbody tr th {\n",
       "        vertical-align: top;\n",
       "    }\n",
       "\n",
       "    .dataframe thead th {\n",
       "        text-align: right;\n",
       "    }\n",
       "</style>\n",
       "<table border=\"1\" class=\"dataframe\">\n",
       "  <thead>\n",
       "    <tr style=\"text-align: right;\">\n",
       "      <th></th>\n",
       "      <th>id</th>\n",
       "      <th>type</th>\n",
       "      <th>title</th>\n",
       "      <th>director</th>\n",
       "      <th>cast</th>\n",
       "      <th>country</th>\n",
       "      <th>date_added</th>\n",
       "      <th>release_year</th>\n",
       "      <th>scored_x</th>\n",
       "      <th>duration</th>\n",
       "      <th>listed_in</th>\n",
       "      <th>description</th>\n",
       "      <th>plataforma</th>\n",
       "      <th>scored</th>\n",
       "      <th>userId</th>\n",
       "      <th>duration_int</th>\n",
       "      <th>duration_type</th>\n",
       "    </tr>\n",
       "  </thead>\n",
       "  <tbody>\n",
       "    <tr>\n",
       "      <th>0</th>\n",
       "      <td>as1</td>\n",
       "      <td>movie</td>\n",
       "      <td>the grand seduction</td>\n",
       "      <td>don mckellar</td>\n",
       "      <td>brendan gleeson, taylor kitsch, gordon pinsent</td>\n",
       "      <td>canada</td>\n",
       "      <td>2021-03-30</td>\n",
       "      <td>2014</td>\n",
       "      <td>NaN</td>\n",
       "      <td>113 min</td>\n",
       "      <td>comedy, drama</td>\n",
       "      <td>a small fishing village must procure a local d...</td>\n",
       "      <td>amazon</td>\n",
       "      <td>3.47</td>\n",
       "      <td>99178</td>\n",
       "      <td>113</td>\n",
       "      <td>min</td>\n",
       "    </tr>\n",
       "    <tr>\n",
       "      <th>1</th>\n",
       "      <td>as2</td>\n",
       "      <td>movie</td>\n",
       "      <td>take care good night</td>\n",
       "      <td>girish joshi</td>\n",
       "      <td>mahesh manjrekar, abhay mahajan, sachin khedekar</td>\n",
       "      <td>india</td>\n",
       "      <td>2021-03-30</td>\n",
       "      <td>2018</td>\n",
       "      <td>13+</td>\n",
       "      <td>110 min</td>\n",
       "      <td>drama, international</td>\n",
       "      <td>a metro family decides to fight a cyber crimin...</td>\n",
       "      <td>amazon</td>\n",
       "      <td>3.55</td>\n",
       "      <td>93837</td>\n",
       "      <td>110</td>\n",
       "      <td>min</td>\n",
       "    </tr>\n",
       "  </tbody>\n",
       "</table>\n",
       "</div>"
      ],
      "text/plain": [
       "    id   type                 title      director  \\\n",
       "0  as1  movie   the grand seduction  don mckellar   \n",
       "1  as2  movie  take care good night  girish joshi   \n",
       "\n",
       "                                               cast country date_added  \\\n",
       "0    brendan gleeson, taylor kitsch, gordon pinsent  canada 2021-03-30   \n",
       "1  mahesh manjrekar, abhay mahajan, sachin khedekar   india 2021-03-30   \n",
       "\n",
       "   release_year scored_x duration             listed_in  \\\n",
       "0          2014      NaN  113 min         comedy, drama   \n",
       "1          2018      13+  110 min  drama, international   \n",
       "\n",
       "                                         description plataforma  scored  \\\n",
       "0  a small fishing village must procure a local d...     amazon    3.47   \n",
       "1  a metro family decides to fight a cyber crimin...     amazon    3.55   \n",
       "\n",
       "   userId  duration_int duration_type  \n",
       "0   99178           113           min  \n",
       "1   93837           110           min  "
      ]
     },
     "execution_count": 32,
     "metadata": {},
     "output_type": "execute_result"
    }
   ],
   "source": [
    "dataDuracion=combinacionDF.copy()\n",
    "dataDuracion = dataDuracion[\"duration\"].str.split(\" \", expand=True)\n",
    "combinacionDF[\"duration_int\"] =dataDuracion[0].astype(dtype=\"Int64\")\n",
    "combinacionDF[\"duration_type\"] = dataDuracion[1].str.replace(\"seasons\",\"temporadas\",regex=False)\n",
    "combinacionDF[\"duration_type\"] =combinacionDF[\"duration_type\"].str.replace(\"season\",\"temporadas\",regex=False)\n",
    "combinacionDF = combinacionDF.fillna({ 'rating' : \"G\"})\n",
    "combinacionDF[\"scored_y\"] = round(combinacionDF[\"scored_y\"].astype(dtype=\"float\"),2)\n",
    "combinacionDF[\"userId\"] = combinacionDF[\"userId\"].astype(dtype=\"int64\")\n",
    "combinacionDF.rename(columns={ 'scored_y' :\"scored\" },inplace=True)\n",
    "combinacionDF.head(2)"
   ]
  },
  {
   "attachments": {},
   "cell_type": "markdown",
   "metadata": {},
   "source": [
    "Se realiza una copia del dataframe con el fin de salva guardar los cambios anteriormente realizados"
   ]
  },
  {
   "cell_type": "code",
   "execution_count": 33,
   "metadata": {},
   "outputs": [
    {
     "data": {
      "text/html": [
       "<div>\n",
       "<style scoped>\n",
       "    .dataframe tbody tr th:only-of-type {\n",
       "        vertical-align: middle;\n",
       "    }\n",
       "\n",
       "    .dataframe tbody tr th {\n",
       "        vertical-align: top;\n",
       "    }\n",
       "\n",
       "    .dataframe thead th {\n",
       "        text-align: right;\n",
       "    }\n",
       "</style>\n",
       "<table border=\"1\" class=\"dataframe\">\n",
       "  <thead>\n",
       "    <tr style=\"text-align: right;\">\n",
       "      <th></th>\n",
       "      <th>id</th>\n",
       "      <th>type</th>\n",
       "      <th>title</th>\n",
       "      <th>director</th>\n",
       "      <th>cast</th>\n",
       "      <th>country</th>\n",
       "      <th>date_added</th>\n",
       "      <th>release_year</th>\n",
       "      <th>scored_x</th>\n",
       "      <th>duration</th>\n",
       "      <th>listed_in</th>\n",
       "      <th>description</th>\n",
       "      <th>plataforma</th>\n",
       "      <th>scored</th>\n",
       "      <th>userId</th>\n",
       "      <th>duration_int</th>\n",
       "      <th>duration_type</th>\n",
       "    </tr>\n",
       "  </thead>\n",
       "  <tbody>\n",
       "    <tr>\n",
       "      <th>0</th>\n",
       "      <td>as1</td>\n",
       "      <td>movie</td>\n",
       "      <td>the grand seduction</td>\n",
       "      <td>don mckellar</td>\n",
       "      <td>brendan gleeson, taylor kitsch, gordon pinsent</td>\n",
       "      <td>canada</td>\n",
       "      <td>2021-03-30</td>\n",
       "      <td>2014</td>\n",
       "      <td>NaN</td>\n",
       "      <td>113 min</td>\n",
       "      <td>comedy, drama</td>\n",
       "      <td>a small fishing village must procure a local d...</td>\n",
       "      <td>amazon</td>\n",
       "      <td>3.47</td>\n",
       "      <td>99178</td>\n",
       "      <td>113</td>\n",
       "      <td>min</td>\n",
       "    </tr>\n",
       "    <tr>\n",
       "      <th>1</th>\n",
       "      <td>as2</td>\n",
       "      <td>movie</td>\n",
       "      <td>take care good night</td>\n",
       "      <td>girish joshi</td>\n",
       "      <td>mahesh manjrekar, abhay mahajan, sachin khedekar</td>\n",
       "      <td>india</td>\n",
       "      <td>2021-03-30</td>\n",
       "      <td>2018</td>\n",
       "      <td>13+</td>\n",
       "      <td>110 min</td>\n",
       "      <td>drama, international</td>\n",
       "      <td>a metro family decides to fight a cyber crimin...</td>\n",
       "      <td>amazon</td>\n",
       "      <td>3.55</td>\n",
       "      <td>93837</td>\n",
       "      <td>110</td>\n",
       "      <td>min</td>\n",
       "    </tr>\n",
       "  </tbody>\n",
       "</table>\n",
       "</div>"
      ],
      "text/plain": [
       "    id   type                 title      director  \\\n",
       "0  as1  movie   the grand seduction  don mckellar   \n",
       "1  as2  movie  take care good night  girish joshi   \n",
       "\n",
       "                                               cast country date_added  \\\n",
       "0    brendan gleeson, taylor kitsch, gordon pinsent  canada 2021-03-30   \n",
       "1  mahesh manjrekar, abhay mahajan, sachin khedekar   india 2021-03-30   \n",
       "\n",
       "   release_year scored_x duration             listed_in  \\\n",
       "0          2014      NaN  113 min         comedy, drama   \n",
       "1          2018      13+  110 min  drama, international   \n",
       "\n",
       "                                         description plataforma  scored  \\\n",
       "0  a small fishing village must procure a local d...     amazon    3.47   \n",
       "1  a metro family decides to fight a cyber crimin...     amazon    3.55   \n",
       "\n",
       "   userId  duration_int duration_type  \n",
       "0   99178           113           min  \n",
       "1   93837           110           min  "
      ]
     },
     "execution_count": 33,
     "metadata": {},
     "output_type": "execute_result"
    }
   ],
   "source": [
    "NuevoDataDF=combinacionDF.copy()\n",
    "NuevoDataDF.head(2)"
   ]
  },
  {
   "attachments": {},
   "cell_type": "markdown",
   "metadata": {},
   "source": [
    "Se realiza una fitro de la columna title. Que para mi criterio personal, deveria ser la mas importante del dataset; con el fin de extraer los valores nulos de esa columna y poder revisar los datos de alrededor (osea de las otras columnas));  "
   ]
  },
  {
   "cell_type": "code",
   "execution_count": 34,
   "metadata": {},
   "outputs": [
    {
     "data": {
      "text/html": [
       "<div>\n",
       "<style scoped>\n",
       "    .dataframe tbody tr th:only-of-type {\n",
       "        vertical-align: middle;\n",
       "    }\n",
       "\n",
       "    .dataframe tbody tr th {\n",
       "        vertical-align: top;\n",
       "    }\n",
       "\n",
       "    .dataframe thead th {\n",
       "        text-align: right;\n",
       "    }\n",
       "</style>\n",
       "<table border=\"1\" class=\"dataframe\">\n",
       "  <thead>\n",
       "    <tr style=\"text-align: right;\">\n",
       "      <th></th>\n",
       "      <th>id</th>\n",
       "      <th>type</th>\n",
       "      <th>title</th>\n",
       "      <th>director</th>\n",
       "      <th>cast</th>\n",
       "      <th>country</th>\n",
       "      <th>date_added</th>\n",
       "      <th>release_year</th>\n",
       "      <th>scored_x</th>\n",
       "      <th>duration</th>\n",
       "      <th>listed_in</th>\n",
       "      <th>description</th>\n",
       "      <th>plataforma</th>\n",
       "      <th>scored</th>\n",
       "      <th>userId</th>\n",
       "      <th>duration_int</th>\n",
       "      <th>duration_type</th>\n",
       "    </tr>\n",
       "  </thead>\n",
       "  <tbody>\n",
       "  </tbody>\n",
       "</table>\n",
       "</div>"
      ],
      "text/plain": [
       "Empty DataFrame\n",
       "Columns: [id, type, title, director, cast, country, date_added, release_year, scored_x, duration, listed_in, description, plataforma, scored, userId, duration_int, duration_type]\n",
       "Index: []"
      ]
     },
     "execution_count": 34,
     "metadata": {},
     "output_type": "execute_result"
    }
   ],
   "source": [
    "NuevoDataDF[NuevoDataDF[\"title\"].isnull()].head(3)"
   ]
  },
  {
   "attachments": {},
   "cell_type": "markdown",
   "metadata": {},
   "source": [
    "Se logra evidenciar que de las 12 columnas, solo 4 columnas tienen datos en usus filas y que no representan ningun valor si no son acompañadas de las otras filas"
   ]
  },
  {
   "cell_type": "code",
   "execution_count": 35,
   "metadata": {},
   "outputs": [],
   "source": [
    "#filtDGen=dataGeneral[dataGeneral.show_id.notnull() & dataGeneral.type.notnull() & dataGeneral.title.notnull() &\n",
    "#                     dataGeneral.director.notnull() & dataGeneral.cast.notnull() & dataGeneral.country.notnull() &\n",
    "#                     dataGeneral.release_year.notnull() & dataGeneral.duration.notnull() & dataGeneral.listed_in.notnull() &\n",
    "#                     dataGeneral.description.notnull()]\n",
    "#dataGeneral2=filtDGen.copy()\n",
    "#filtDGen.head(1)"
   ]
  },
  {
   "attachments": {},
   "cell_type": "markdown",
   "metadata": {},
   "source": [
    "Se realiza la verificacion de los valores unicos de la columna Title vs el total "
   ]
  },
  {
   "cell_type": "code",
   "execution_count": 36,
   "metadata": {},
   "outputs": [
    {
     "name": "stdout",
     "output_type": "stream",
     "text": [
      "Cantida de unicos TITULOS  22041\n",
      "Total de TITULOS  22998\n",
      "Total nulos de TITULOS  0\n"
     ]
    }
   ],
   "source": [
    "\n",
    "#print(\"Cantida de unicos TITULOS \",  len(dataGeneral2[\"title\"].unique()))\n",
    "#print(\"Total de TITULOS \",  dataGeneral2[\"title\"].count())\n",
    "#print(\"Total nulos de TITULOS \",  dataGeneral2[\"title\"].isnull().sum().sum())\n",
    "\n",
    "print(\"Cantida de unicos TITULOS \",  len(NuevoDataDF[\"title\"].unique()))\n",
    "print(\"Total de TITULOS \",  NuevoDataDF[\"title\"].count())\n",
    "print(\"Total nulos de TITULOS \",  NuevoDataDF[\"title\"].isnull().sum().sum())"
   ]
  },
  {
   "attachments": {},
   "cell_type": "markdown",
   "metadata": {},
   "source": [
    "Se revisa los porcentajes de faltantes frente a los datos totales de todo el dataframe y columna por columna, ademas que nos muestra cuantos datos por columnas faltan."
   ]
  },
  {
   "cell_type": "code",
   "execution_count": 37,
   "metadata": {},
   "outputs": [
    {
     "name": "stdout",
     "output_type": "stream",
     "text": [
      "----------- Porcentaje de nulos en el dataset general ------------- \n",
      "country          0.500000\n",
      "date_added       0.415427\n",
      "director         0.359118\n",
      "cast             0.231368\n",
      "scored_x         0.037568\n",
      "duration         0.020958\n",
      "duration_int     0.020958\n",
      "duration_type    0.020958\n",
      "description      0.000174\n",
      "type             0.000000\n",
      "release_year     0.000000\n",
      "listed_in        0.000000\n",
      "plataforma       0.000000\n",
      "scored           0.000000\n",
      "userId           0.000000\n",
      "title            0.000000\n",
      "id               0.000000\n",
      "dtype: float64\n",
      "----------- Total de nulos en el dataset general ------------- \n",
      "country          11499\n",
      "date_added        9554\n",
      "director          8259\n",
      "cast              5321\n",
      "scored_x           864\n",
      "duration           482\n",
      "duration_int       482\n",
      "duration_type      482\n",
      "description          4\n",
      "type                 0\n",
      "release_year         0\n",
      "listed_in            0\n",
      "plataforma           0\n",
      "scored               0\n",
      "userId               0\n",
      "title                0\n",
      "id                   0\n",
      "dtype: int64\n"
     ]
    }
   ],
   "source": [
    "totall=NuevoDataDF.isnull().sum().sort_values(ascending=False)\n",
    "porcenNulo=((NuevoDataDF.isnull().sum()/NuevoDataDF.isnull().count()).sort_values(ascending=False))\n",
    "#Datafaltantes=pd.concat([total,porcenNulos],axis=1,keys=[\"Total\",\"Porcentaje\"])\n",
    "#print(Datafaltantes[Datafaltantes[\"Total\"]>0],sep=\"\\n\")\n",
    "print (\"----------- Porcentaje de nulos en el dataset general ------------- \")\n",
    "print (porcenNulo)\n",
    "print (\"----------- Total de nulos en el dataset general ------------- \")\n",
    "print(totall)"
   ]
  },
  {
   "attachments": {},
   "cell_type": "markdown",
   "metadata": {},
   "source": [
    "Nuevamente realizamos un analisis de los subniveles con el fin de monitoriar los cambios"
   ]
  },
  {
   "cell_type": "code",
   "execution_count": 38,
   "metadata": {},
   "outputs": [
    {
     "data": {
      "text/html": [
       "<div>\n",
       "<style scoped>\n",
       "    .dataframe tbody tr th:only-of-type {\n",
       "        vertical-align: middle;\n",
       "    }\n",
       "\n",
       "    .dataframe tbody tr th {\n",
       "        vertical-align: top;\n",
       "    }\n",
       "\n",
       "    .dataframe thead th {\n",
       "        text-align: right;\n",
       "    }\n",
       "</style>\n",
       "<table border=\"1\" class=\"dataframe\">\n",
       "  <thead>\n",
       "    <tr style=\"text-align: right;\">\n",
       "      <th></th>\n",
       "      <th>Nombre</th>\n",
       "      <th>Subniveles</th>\n",
       "    </tr>\n",
       "  </thead>\n",
       "  <tbody>\n",
       "    <tr>\n",
       "      <th>1</th>\n",
       "      <td>2</td>\n",
       "      <td>type</td>\n",
       "    </tr>\n",
       "    <tr>\n",
       "      <th>10</th>\n",
       "      <td>4</td>\n",
       "      <td>plataforma</td>\n",
       "    </tr>\n",
       "    <tr>\n",
       "      <th>7</th>\n",
       "      <td>253</td>\n",
       "      <td>duration</td>\n",
       "    </tr>\n",
       "    <tr>\n",
       "      <th>5</th>\n",
       "      <td>886</td>\n",
       "      <td>country</td>\n",
       "    </tr>\n",
       "    <tr>\n",
       "      <th>8</th>\n",
       "      <td>1687</td>\n",
       "      <td>listed_in</td>\n",
       "    </tr>\n",
       "    <tr>\n",
       "      <th>6</th>\n",
       "      <td>2003</td>\n",
       "      <td>date_added</td>\n",
       "    </tr>\n",
       "    <tr>\n",
       "      <th>3</th>\n",
       "      <td>10094</td>\n",
       "      <td>director</td>\n",
       "    </tr>\n",
       "    <tr>\n",
       "      <th>4</th>\n",
       "      <td>16743</td>\n",
       "      <td>cast</td>\n",
       "    </tr>\n",
       "    <tr>\n",
       "      <th>2</th>\n",
       "      <td>22041</td>\n",
       "      <td>title</td>\n",
       "    </tr>\n",
       "    <tr>\n",
       "      <th>9</th>\n",
       "      <td>22669</td>\n",
       "      <td>description</td>\n",
       "    </tr>\n",
       "    <tr>\n",
       "      <th>0</th>\n",
       "      <td>22998</td>\n",
       "      <td>id</td>\n",
       "    </tr>\n",
       "  </tbody>\n",
       "</table>\n",
       "</div>"
      ],
      "text/plain": [
       "    Nombre   Subniveles\n",
       "1        2         type\n",
       "10       4   plataforma\n",
       "7      253     duration\n",
       "5      886      country\n",
       "8     1687    listed_in\n",
       "6     2003   date_added\n",
       "3    10094     director\n",
       "4    16743         cast\n",
       "2    22041        title\n",
       "9    22669  description\n",
       "0    22998           id"
      ]
     },
     "execution_count": 38,
     "metadata": {},
     "output_type": "execute_result"
    }
   ],
   "source": [
    "listNivell=[]\n",
    "nomColl=[]\n",
    "for coll in col_categoricas:\n",
    "    listNivell.append(coll)\n",
    "    nomColl.append(NuevoDataDF[coll].nunique())\n",
    "#   #print(f\"columna { col } : { dataHospital[col].nunique()}  subniveles\")\n",
    "subniveless=pd.DataFrame(list(zip(nomColl,listNivell)),columns=[\"Nombre\",\"Subniveles\"])\n",
    "subniveless.sort_values('Nombre')"
   ]
  },
  {
   "cell_type": "code",
   "execution_count": 39,
   "metadata": {},
   "outputs": [
    {
     "data": {
      "text/plain": [
       "Index(['id', 'type', 'title', 'director', 'cast', 'country', 'date_added',\n",
       "       'release_year', 'scored_x', 'duration', 'listed_in', 'description',\n",
       "       'plataforma', 'scored', 'userId', 'duration_int', 'duration_type'],\n",
       "      dtype='object')"
      ]
     },
     "execution_count": 39,
     "metadata": {},
     "output_type": "execute_result"
    }
   ],
   "source": [
    "NuevoDataDF.columns"
   ]
  },
  {
   "cell_type": "code",
   "execution_count": 40,
   "metadata": {},
   "outputs": [
    {
     "data": {
      "text/html": [
       "<div>\n",
       "<style scoped>\n",
       "    .dataframe tbody tr th:only-of-type {\n",
       "        vertical-align: middle;\n",
       "    }\n",
       "\n",
       "    .dataframe tbody tr th {\n",
       "        vertical-align: top;\n",
       "    }\n",
       "\n",
       "    .dataframe thead th {\n",
       "        text-align: right;\n",
       "    }\n",
       "</style>\n",
       "<table border=\"1\" class=\"dataframe\">\n",
       "  <thead>\n",
       "    <tr style=\"text-align: right;\">\n",
       "      <th></th>\n",
       "      <th>id</th>\n",
       "      <th>type</th>\n",
       "      <th>title</th>\n",
       "      <th>director</th>\n",
       "      <th>cast</th>\n",
       "      <th>country</th>\n",
       "      <th>date_added</th>\n",
       "      <th>release_year</th>\n",
       "      <th>scored_x</th>\n",
       "      <th>duration</th>\n",
       "      <th>listed_in</th>\n",
       "      <th>description</th>\n",
       "      <th>plataforma</th>\n",
       "      <th>scored</th>\n",
       "      <th>userId</th>\n",
       "      <th>duration_int</th>\n",
       "      <th>duration_type</th>\n",
       "    </tr>\n",
       "  </thead>\n",
       "  <tbody>\n",
       "    <tr>\n",
       "      <th>0</th>\n",
       "      <td>as1</td>\n",
       "      <td>movie</td>\n",
       "      <td>the grand seduction</td>\n",
       "      <td>don mckellar</td>\n",
       "      <td>brendan gleeson, taylor kitsch, gordon pinsent</td>\n",
       "      <td>canada</td>\n",
       "      <td>2021-03-30</td>\n",
       "      <td>2014</td>\n",
       "      <td>NaN</td>\n",
       "      <td>113 min</td>\n",
       "      <td>comedy, drama</td>\n",
       "      <td>a small fishing village must procure a local d...</td>\n",
       "      <td>amazon</td>\n",
       "      <td>3.47</td>\n",
       "      <td>99178</td>\n",
       "      <td>113</td>\n",
       "      <td>min</td>\n",
       "    </tr>\n",
       "  </tbody>\n",
       "</table>\n",
       "</div>"
      ],
      "text/plain": [
       "    id   type                title      director  \\\n",
       "0  as1  movie  the grand seduction  don mckellar   \n",
       "\n",
       "                                             cast country date_added  \\\n",
       "0  brendan gleeson, taylor kitsch, gordon pinsent  canada 2021-03-30   \n",
       "\n",
       "   release_year scored_x duration      listed_in  \\\n",
       "0          2014      NaN  113 min  comedy, drama   \n",
       "\n",
       "                                         description plataforma  scored  \\\n",
       "0  a small fishing village must procure a local d...     amazon    3.47   \n",
       "\n",
       "   userId  duration_int duration_type  \n",
       "0   99178           113           min  "
      ]
     },
     "execution_count": 40,
     "metadata": {},
     "output_type": "execute_result"
    }
   ],
   "source": [
    "NuevoDataDF.head(1)"
   ]
  },
  {
   "attachments": {},
   "cell_type": "markdown",
   "metadata": {},
   "source": [
    "Segenero una copia del dataframe anterior con todas la columnas exceto duration ya que esta columna se le hizo un split y no es necesaria tenerla en el dataframe, no se elimino del anterior, por si tuvieramos que volver a usarla."
   ]
  },
  {
   "cell_type": "code",
   "execution_count": 41,
   "metadata": {},
   "outputs": [
    {
     "data": {
      "text/plain": [
       "(22998, 15)"
      ]
     },
     "execution_count": 41,
     "metadata": {},
     "output_type": "execute_result"
    }
   ],
   "source": [
    "NuevoDataDF=NuevoDataDF[['id', 'type', 'title', 'director', 'cast', 'country', 'date_added',\n",
    "       'release_year','listed_in', 'description',\n",
    "       'plataforma', 'scored', 'userId', 'duration_int', 'duration_type']].copy()\n",
    "\n",
    "NuevoDataDF.shape"
   ]
  },
  {
   "attachments": {},
   "cell_type": "markdown",
   "metadata": {},
   "source": [
    "Se relializa una copia del dataframe ya revizado."
   ]
  },
  {
   "cell_type": "code",
   "execution_count": 42,
   "metadata": {},
   "outputs": [
    {
     "data": {
      "text/html": [
       "<div>\n",
       "<style scoped>\n",
       "    .dataframe tbody tr th:only-of-type {\n",
       "        vertical-align: middle;\n",
       "    }\n",
       "\n",
       "    .dataframe tbody tr th {\n",
       "        vertical-align: top;\n",
       "    }\n",
       "\n",
       "    .dataframe thead th {\n",
       "        text-align: right;\n",
       "    }\n",
       "</style>\n",
       "<table border=\"1\" class=\"dataframe\">\n",
       "  <thead>\n",
       "    <tr style=\"text-align: right;\">\n",
       "      <th></th>\n",
       "      <th>id</th>\n",
       "      <th>type</th>\n",
       "      <th>title</th>\n",
       "      <th>director</th>\n",
       "      <th>cast</th>\n",
       "      <th>country</th>\n",
       "      <th>date_added</th>\n",
       "      <th>release_year</th>\n",
       "      <th>listed_in</th>\n",
       "      <th>description</th>\n",
       "      <th>plataforma</th>\n",
       "      <th>scored</th>\n",
       "      <th>userId</th>\n",
       "      <th>duration_int</th>\n",
       "      <th>duration_type</th>\n",
       "    </tr>\n",
       "  </thead>\n",
       "  <tbody>\n",
       "    <tr>\n",
       "      <th>0</th>\n",
       "      <td>as1</td>\n",
       "      <td>movie</td>\n",
       "      <td>the grand seduction</td>\n",
       "      <td>don mckellar</td>\n",
       "      <td>brendan gleeson, taylor kitsch, gordon pinsent</td>\n",
       "      <td>canada</td>\n",
       "      <td>2021-03-30</td>\n",
       "      <td>2014</td>\n",
       "      <td>comedy, drama</td>\n",
       "      <td>a small fishing village must procure a local d...</td>\n",
       "      <td>amazon</td>\n",
       "      <td>3.47</td>\n",
       "      <td>99178</td>\n",
       "      <td>113</td>\n",
       "      <td>min</td>\n",
       "    </tr>\n",
       "    <tr>\n",
       "      <th>1</th>\n",
       "      <td>as2</td>\n",
       "      <td>movie</td>\n",
       "      <td>take care good night</td>\n",
       "      <td>girish joshi</td>\n",
       "      <td>mahesh manjrekar, abhay mahajan, sachin khedekar</td>\n",
       "      <td>india</td>\n",
       "      <td>2021-03-30</td>\n",
       "      <td>2018</td>\n",
       "      <td>drama, international</td>\n",
       "      <td>a metro family decides to fight a cyber crimin...</td>\n",
       "      <td>amazon</td>\n",
       "      <td>3.55</td>\n",
       "      <td>93837</td>\n",
       "      <td>110</td>\n",
       "      <td>min</td>\n",
       "    </tr>\n",
       "  </tbody>\n",
       "</table>\n",
       "</div>"
      ],
      "text/plain": [
       "    id   type                 title      director  \\\n",
       "0  as1  movie   the grand seduction  don mckellar   \n",
       "1  as2  movie  take care good night  girish joshi   \n",
       "\n",
       "                                               cast country date_added  \\\n",
       "0    brendan gleeson, taylor kitsch, gordon pinsent  canada 2021-03-30   \n",
       "1  mahesh manjrekar, abhay mahajan, sachin khedekar   india 2021-03-30   \n",
       "\n",
       "   release_year             listed_in  \\\n",
       "0          2014         comedy, drama   \n",
       "1          2018  drama, international   \n",
       "\n",
       "                                         description plataforma  scored  \\\n",
       "0  a small fishing village must procure a local d...     amazon    3.47   \n",
       "1  a metro family decides to fight a cyber crimin...     amazon    3.55   \n",
       "\n",
       "   userId  duration_int duration_type  \n",
       "0   99178           113           min  \n",
       "1   93837           110           min  "
      ]
     },
     "execution_count": 42,
     "metadata": {},
     "output_type": "execute_result"
    }
   ],
   "source": [
    "consul=NuevoDataDF.copy()\n",
    "consul.head(2)"
   ]
  },
  {
   "attachments": {},
   "cell_type": "markdown",
   "metadata": {},
   "source": [
    "solo son pruebas "
   ]
  },
  {
   "cell_type": "code",
   "execution_count": 43,
   "metadata": {},
   "outputs": [],
   "source": [
    "#consul[[\"release_year\",\"plataforma\",\"duration_int\",\"duration_type\"]][consul[\"release_year\"]==anio].head(2)"
   ]
  },
  {
   "cell_type": "code",
   "execution_count": 44,
   "metadata": {},
   "outputs": [],
   "source": [
    "\n",
    "#consul[['plataforma',\"title\",\"release_year\",\"duration_int\",\"duration_type\"]][consul['plataforma'].str.contains(plataforma, case=False, na=True, regex=True)].head(2)\n"
   ]
  },
  {
   "attachments": {},
   "cell_type": "markdown",
   "metadata": {},
   "source": [
    "Película con mayor duración con filtros opcionales de AÑO, PLATAFORMA Y TIPO DE DURACIÓN. (la función debe llamarse get_max_duration(year, platform, duration_type))"
   ]
  },
  {
   "cell_type": "code",
   "execution_count": 45,
   "metadata": {},
   "outputs": [
    {
     "data": {
      "text/html": [
       "<div>\n",
       "<style scoped>\n",
       "    .dataframe tbody tr th:only-of-type {\n",
       "        vertical-align: middle;\n",
       "    }\n",
       "\n",
       "    .dataframe tbody tr th {\n",
       "        vertical-align: top;\n",
       "    }\n",
       "\n",
       "    .dataframe thead th {\n",
       "        text-align: right;\n",
       "    }\n",
       "</style>\n",
       "<table border=\"1\" class=\"dataframe\">\n",
       "  <thead>\n",
       "    <tr style=\"text-align: right;\">\n",
       "      <th></th>\n",
       "      <th>id</th>\n",
       "      <th>type</th>\n",
       "      <th>title</th>\n",
       "      <th>director</th>\n",
       "      <th>cast</th>\n",
       "      <th>country</th>\n",
       "      <th>date_added</th>\n",
       "      <th>release_year</th>\n",
       "      <th>listed_in</th>\n",
       "      <th>description</th>\n",
       "      <th>plataforma</th>\n",
       "      <th>scored</th>\n",
       "      <th>userId</th>\n",
       "      <th>duration_int</th>\n",
       "      <th>duration_type</th>\n",
       "    </tr>\n",
       "  </thead>\n",
       "  <tbody>\n",
       "    <tr>\n",
       "      <th>0</th>\n",
       "      <td>as1</td>\n",
       "      <td>movie</td>\n",
       "      <td>the grand seduction</td>\n",
       "      <td>don mckellar</td>\n",
       "      <td>brendan gleeson, taylor kitsch, gordon pinsent</td>\n",
       "      <td>canada</td>\n",
       "      <td>2021-03-30</td>\n",
       "      <td>2014</td>\n",
       "      <td>comedy, drama</td>\n",
       "      <td>a small fishing village must procure a local d...</td>\n",
       "      <td>amazon</td>\n",
       "      <td>3.47</td>\n",
       "      <td>99178</td>\n",
       "      <td>113</td>\n",
       "      <td>min</td>\n",
       "    </tr>\n",
       "  </tbody>\n",
       "</table>\n",
       "</div>"
      ],
      "text/plain": [
       "    id   type                title      director  \\\n",
       "0  as1  movie  the grand seduction  don mckellar   \n",
       "\n",
       "                                             cast country date_added  \\\n",
       "0  brendan gleeson, taylor kitsch, gordon pinsent  canada 2021-03-30   \n",
       "\n",
       "   release_year      listed_in  \\\n",
       "0          2014  comedy, drama   \n",
       "\n",
       "                                         description plataforma  scored  \\\n",
       "0  a small fishing village must procure a local d...     amazon    3.47   \n",
       "\n",
       "   userId  duration_int duration_type  \n",
       "0   99178           113           min  "
      ]
     },
     "execution_count": 45,
     "metadata": {},
     "output_type": "execute_result"
    }
   ],
   "source": [
    "consul.head(1)"
   ]
  },
  {
   "cell_type": "code",
   "execution_count": 46,
   "metadata": {},
   "outputs": [
    {
     "data": {
      "text/html": [
       "<style type=\"text/css\">\n",
       "</style>\n",
       "<table id=\"T_2a5be\">\n",
       "  <thead>\n",
       "    <tr>\n",
       "      <th id=\"T_2a5be_level0_col0\" class=\"col_heading level0 col0\" >id</th>\n",
       "      <th id=\"T_2a5be_level0_col1\" class=\"col_heading level0 col1\" >title</th>\n",
       "      <th id=\"T_2a5be_level0_col2\" class=\"col_heading level0 col2\" >duration_int</th>\n",
       "    </tr>\n",
       "  </thead>\n",
       "  <tbody>\n",
       "    <tr>\n",
       "      <td id=\"T_2a5be_row0_col0\" class=\"data row0 col0\" >as7616</td>\n",
       "      <td id=\"T_2a5be_row0_col1\" class=\"data row0 col1\" >night sky with nature sounds with 432hz nature sound track for sleep</td>\n",
       "      <td id=\"T_2a5be_row0_col2\" class=\"data row0 col2\" >540</td>\n",
       "    </tr>\n",
       "  </tbody>\n",
       "</table>\n"
      ],
      "text/plain": [
       "<pandas.io.formats.style.Styler at 0x1259d15dd10>"
      ]
     },
     "execution_count": 46,
     "metadata": {},
     "output_type": "execute_result"
    }
   ],
   "source": [
    "#primera consulta\n",
    "consul1=consul[(consul['release_year']==2020) &\n",
    "       (consul[\"plataforma\"]=='amazon') &\n",
    "       (consul[\"duration_type\"]=='min') &\n",
    "       (consul[\"type\"]==\"movie\")].sort_values(by='duration_int', ascending=False).head(1)\n",
    "\n",
    "consul1[[\"id\",\"title\",\"duration_int\"]].style.hide(axis=\"index\").format(precision=0)\n"
   ]
  },
  {
   "attachments": {},
   "cell_type": "markdown",
   "metadata": {},
   "source": [
    "Se realiza la verificacion los valores minimos y maximos del dataframe"
   ]
  },
  {
   "cell_type": "code",
   "execution_count": 47,
   "metadata": {},
   "outputs": [
    {
     "name": "stdout",
     "output_type": "stream",
     "text": [
      "El valor minimo es : 3.72 y el valor maximo es: 3.34\n"
     ]
    }
   ],
   "source": [
    "minimo=round(consul[\"scored\"].max(),2)\n",
    "maximo=round(consul[\"scored\"].min(),2)\n",
    "print(f\"El valor minimo es : {minimo} y el valor maximo es: {maximo}\")"
   ]
  },
  {
   "attachments": {},
   "cell_type": "markdown",
   "metadata": {},
   "source": [
    "Cantidad de películas por plataforma con un puntaje mayor a XX en determinado año (la función debe llamarse get_score_count(platform, scored, year))"
   ]
  },
  {
   "cell_type": "code",
   "execution_count": 48,
   "metadata": {},
   "outputs": [
    {
     "data": {
      "text/plain": [
       "264"
      ]
     },
     "execution_count": 48,
     "metadata": {},
     "output_type": "execute_result"
    }
   ],
   "source": [
    "# corregir el score\n",
    "a=consul[\"title\"][(consul[\"type\"]=='movie') &\n",
    "                (consul[\"plataforma\"]==\"netflix\") & \n",
    "                (consul[\"scored\"]>1) & #----De 3.72 a 3.34\n",
    "                (consul['release_year']==2014)].count()\n",
    "a"
   ]
  },
  {
   "cell_type": "markdown",
   "metadata": {},
   "source": [
    "Cantidad de películas por plataforma con filtro de PLATAFORMA. (La función debe llamarse get_count_platform(platform))"
   ]
  },
  {
   "cell_type": "code",
   "execution_count": 49,
   "metadata": {},
   "outputs": [
    {
     "data": {
      "text/plain": [
       "6131"
      ]
     },
     "execution_count": 49,
     "metadata": {},
     "output_type": "execute_result"
    }
   ],
   "source": [
    "# a=consul[\"title\"][(consul[\"type\"]=='movie') &\n",
    "#                 (consul[\"plataforma\"]==\"netflix\")].count()\n",
    "\n",
    "a=consul[\"title\"][(consul[\"type\"]=='movie') &\n",
    "                (consul[\"plataforma\"]==\"netflix\")].count()\n",
    "a"
   ]
  },
  {
   "attachments": {},
   "cell_type": "markdown",
   "metadata": {},
   "source": [
    "Actor que más se repite según plataforma y año. (La función debe llamarse get_actor(platform, year))"
   ]
  },
  {
   "cell_type": "code",
   "execution_count": 50,
   "metadata": {},
   "outputs": [
    {
     "data": {
      "text/plain": [
       "anne-marie newland    7\n",
       "Name: cast, dtype: int64"
      ]
     },
     "execution_count": 50,
     "metadata": {},
     "output_type": "execute_result"
    }
   ],
   "source": [
    "a=consul[(consul[\"plataforma\"]=='amazon') &\n",
    "               (consul['release_year']==2020)]\n",
    "a[\"cast\"].value_counts().head(1)"
   ]
  },
  {
   "attachments": {},
   "cell_type": "markdown",
   "metadata": {},
   "source": [
    "Se genera una exportacion del dataset \"NuevoDataDF\" un archivo.CVS, con el nombre de \"DataPlataformas.csv\", pero antes se verifica si el documento ya existe, si esiste se elimina y si no se crea nuevamente y sino existe solo secrea"
   ]
  },
  {
   "cell_type": "code",
   "execution_count": 51,
   "metadata": {},
   "outputs": [],
   "source": [
    "if os.path.exists(\"DataPlataformas.csv\"):\n",
    "    remove(\"DataPlataformas.csv\")\n",
    "    NuevoDataDF.to_csv(\"DataPlataformas.csv\",index=False,sep=\";\",encoding=\"utf-8\")\n",
    "else:\n",
    "    NuevoDataDF.to_csv(\"DataPlataformas.csv\",index=False,sep=\";\",encoding=\"utf-8\")"
   ]
  },
  {
   "attachments": {},
   "cell_type": "markdown",
   "metadata": {},
   "source": [
    "Se verifica que alla quedado guardado de forma adecuada"
   ]
  },
  {
   "cell_type": "code",
   "execution_count": 52,
   "metadata": {},
   "outputs": [
    {
     "data": {
      "text/html": [
       "<div>\n",
       "<style scoped>\n",
       "    .dataframe tbody tr th:only-of-type {\n",
       "        vertical-align: middle;\n",
       "    }\n",
       "\n",
       "    .dataframe tbody tr th {\n",
       "        vertical-align: top;\n",
       "    }\n",
       "\n",
       "    .dataframe thead th {\n",
       "        text-align: right;\n",
       "    }\n",
       "</style>\n",
       "<table border=\"1\" class=\"dataframe\">\n",
       "  <thead>\n",
       "    <tr style=\"text-align: right;\">\n",
       "      <th></th>\n",
       "      <th>id</th>\n",
       "      <th>type</th>\n",
       "      <th>title</th>\n",
       "      <th>director</th>\n",
       "      <th>cast</th>\n",
       "      <th>country</th>\n",
       "      <th>date_added</th>\n",
       "      <th>release_year</th>\n",
       "      <th>listed_in</th>\n",
       "      <th>description</th>\n",
       "      <th>plataforma</th>\n",
       "      <th>scored</th>\n",
       "      <th>userId</th>\n",
       "      <th>duration_int</th>\n",
       "      <th>duration_type</th>\n",
       "    </tr>\n",
       "  </thead>\n",
       "  <tbody>\n",
       "    <tr>\n",
       "      <th>0</th>\n",
       "      <td>as1</td>\n",
       "      <td>movie</td>\n",
       "      <td>the grand seduction</td>\n",
       "      <td>don mckellar</td>\n",
       "      <td>brendan gleeson, taylor kitsch, gordon pinsent</td>\n",
       "      <td>canada</td>\n",
       "      <td>2021-03-30</td>\n",
       "      <td>2014</td>\n",
       "      <td>comedy, drama</td>\n",
       "      <td>a small fishing village must procure a local d...</td>\n",
       "      <td>amazon</td>\n",
       "      <td>3.47</td>\n",
       "      <td>99178</td>\n",
       "      <td>113.0</td>\n",
       "      <td>min</td>\n",
       "    </tr>\n",
       "    <tr>\n",
       "      <th>1</th>\n",
       "      <td>as2</td>\n",
       "      <td>movie</td>\n",
       "      <td>take care good night</td>\n",
       "      <td>girish joshi</td>\n",
       "      <td>mahesh manjrekar, abhay mahajan, sachin khedekar</td>\n",
       "      <td>india</td>\n",
       "      <td>2021-03-30</td>\n",
       "      <td>2018</td>\n",
       "      <td>drama, international</td>\n",
       "      <td>a metro family decides to fight a cyber crimin...</td>\n",
       "      <td>amazon</td>\n",
       "      <td>3.55</td>\n",
       "      <td>93837</td>\n",
       "      <td>110.0</td>\n",
       "      <td>min</td>\n",
       "    </tr>\n",
       "  </tbody>\n",
       "</table>\n",
       "</div>"
      ],
      "text/plain": [
       "    id   type                 title      director  \\\n",
       "0  as1  movie   the grand seduction  don mckellar   \n",
       "1  as2  movie  take care good night  girish joshi   \n",
       "\n",
       "                                               cast country  date_added  \\\n",
       "0    brendan gleeson, taylor kitsch, gordon pinsent  canada  2021-03-30   \n",
       "1  mahesh manjrekar, abhay mahajan, sachin khedekar   india  2021-03-30   \n",
       "\n",
       "   release_year             listed_in  \\\n",
       "0          2014         comedy, drama   \n",
       "1          2018  drama, international   \n",
       "\n",
       "                                         description plataforma  scored  \\\n",
       "0  a small fishing village must procure a local d...     amazon    3.47   \n",
       "1  a metro family decides to fight a cyber crimin...     amazon    3.55   \n",
       "\n",
       "   userId  duration_int duration_type  \n",
       "0   99178         113.0           min  \n",
       "1   93837         110.0           min  "
      ]
     },
     "execution_count": 52,
     "metadata": {},
     "output_type": "execute_result"
    }
   ],
   "source": [
    "pruebaDeextracion=pd.read_csv(\"DataPlataformas.csv\",sep=\";\")\n",
    "pruebaDeextracion.head(2)"
   ]
  },
  {
   "attachments": {},
   "cell_type": "markdown",
   "metadata": {},
   "source": []
  }
 ],
 "metadata": {
  "kernelspec": {
   "display_name": "Python 3",
   "language": "python",
   "name": "python3"
  },
  "language_info": {
   "codemirror_mode": {
    "name": "ipython",
    "version": 3
   },
   "file_extension": ".py",
   "mimetype": "text/x-python",
   "name": "python",
   "nbconvert_exporter": "python",
   "pygments_lexer": "ipython3",
   "version": "3.11.1"
  },
  "orig_nbformat": 4
 },
 "nbformat": 4,
 "nbformat_minor": 2
}
